{
 "cells": [
  {
   "cell_type": "code",
   "execution_count": 1,
   "metadata": {},
   "outputs": [],
   "source": [
    "import os\n",
    "import pandas as pd\n",
    "import re\n",
    "from azure.storage.blob import BlobClient, BlobServiceClient\n",
    "from dotenv import dotenv_values\n",
    "\n",
    "\n",
    "\n",
    "#connection-string aus verstecker .env zuweisen\n",
    "os.chdir('/Users/akugai/Documents/Programming-Projects/Python_Projects/CloudStorage_Pipeline')\n",
    "config = dotenv_values(\".env\")\n",
    "\n",
    "connection_string = config[\"connection_string\"]\n",
    "\n"
   ]
  },
  {
   "cell_type": "code",
   "execution_count": 2,
   "metadata": {},
   "outputs": [],
   "source": [
    "# Wechsel in input-folder\n",
    "\n",
    "input_path = '/Users/akugai/Documents/Programming-Projects/Python_Projects/CloudStorage_Pipeline/data/input'\n",
    "\n",
    "os.chdir(input_path)\n",
    "\n"
   ]
  },
  {
   "cell_type": "code",
   "execution_count": 3,
   "metadata": {},
   "outputs": [],
   "source": [
    "# Liste mit allen relevanten Files wird erstellt\n",
    "file_input_list = []\n",
    "\n",
    "for filenames in os.listdir(input_path):\n",
    "\n",
    "    file_input_list.append(filenames)\n"
   ]
  },
  {
   "cell_type": "code",
   "execution_count": 5,
   "metadata": {},
   "outputs": [],
   "source": [
    "# Die Umwandlung in csv´s dient hauptsächlich der einfacheren (späteren) Formatierung in der SQL Server Database\n",
    "output_path = '/Users/akugai/Documents/Programming-Projects/Python_Projects/CloudStorage_Pipeline/data/output'\n",
    "#os.chdir(output_path)\n",
    "\n",
    "for file in file_input_list:\n",
    "    if file.endswith('.xlsx'):\n",
    "        table = pd.read_excel(io=file, index_col=None)\n",
    "        table.to_csv(os.path.join(output_path, re.findall('^(.*?)\\.', file)[0]+'.csv') , index=False, sep=';')\n",
    "    elif file.endswith('.xls'):\n",
    "        table = pd.read_excel(io=file, index_col=None)\n",
    "        table.to_csv(os.path.join(output_path, re.findall('^(.*?)\\.', file)[0]+'.csv'), index=False, sep=';')\n",
    "    elif file.endswith('.csv'):\n",
    "        table = pd.read_csv(filepath_or_buffer=file, index_col=False, delimiter=';')\n",
    "        table.to_csv(os.path.join(output_path, re.findall('^(.*?)\\.', file)[0]+'.csv'), index=False, sep=';')\n",
    "         #Alternativ könnte man im Fall einer csv auch einfach nur verschieben..\n",
    "        #os.rename(os.path.join(input_path, file), os.path.join(output_path, file))\n",
    "    else:\n",
    "        pass\n",
    "\n",
    "# Liste mit allen relevanten CSV-Files aus output-folder\n",
    "file_output_list = []\n",
    "for filenames in os.listdir(output_path):\n",
    "    file_output_list.append(filenames)"
   ]
  },
  {
   "cell_type": "code",
   "execution_count": 6,
   "metadata": {},
   "outputs": [],
   "source": [
    "# Das Hochladen in den MS Cloud-Storage\n",
    "\n",
    "for filename in file_output_list:\n",
    "    with open(file=os.path.join(output_path, filename), mode=\"rb\") as data:\n",
    "        try:\n",
    "            # Hier werden die Files in die Cloud geladen. Sollte die File unbekannt sein, wird sie gleich hochgeladen\n",
    "            blob = BlobClient.from_connection_string(conn_str=connection_string, container_name=\"nuernberger\", blob_name=filename)\n",
    "            exists = blob.exists()\n",
    "            if exists == False:\n",
    "                blob.upload_blob(data)\n",
    "            else:\n",
    "                # Dieser Schritt ist nur notwendig weil wir immer die gleichen Files hochladen!\n",
    "                blob_service_client = BlobServiceClient.from_connection_string(connection_string)\n",
    "                blob_client = blob_service_client.get_blob_client( container=\"nuernberger\", blob=filename)\n",
    "                blob_client.delete_blob()\n",
    "                blob.upload_blob(data)\n",
    "        except Exception as e:\n",
    "            print(e)"
   ]
  }
 ],
 "metadata": {
  "kernelspec": {
   "display_name": "CloudStorage_Kernel",
   "language": "python",
   "name": "cloudstorage_kernel"
  },
  "language_info": {
   "codemirror_mode": {
    "name": "ipython",
    "version": 3
   },
   "file_extension": ".py",
   "mimetype": "text/x-python",
   "name": "python",
   "nbconvert_exporter": "python",
   "pygments_lexer": "ipython3",
   "version": "3.11.4"
  }
 },
 "nbformat": 4,
 "nbformat_minor": 2
}
